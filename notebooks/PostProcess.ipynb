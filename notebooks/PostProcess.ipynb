{
 "cells": [
  {
   "cell_type": "markdown",
   "id": "b5c93a57",
   "metadata": {},
   "source": [
    "# Bulldozer post-process\n",
    "\n",
    "This notebook aims to present the tools available in the post-processing module of Bulldozer."
   ]
  },
  {
   "cell_type": "code",
   "execution_count": 4,
   "id": "9fb4c4f0",
   "metadata": {},
   "outputs": [
    {
     "ename": "ModuleNotFoundError",
     "evalue": "No module named 'bulldozer'",
     "output_type": "error",
     "traceback": [
      "\u001b[0;31m---------------------------------------------------------------------------\u001b[0m",
      "\u001b[0;31mModuleNotFoundError\u001b[0m                       Traceback (most recent call last)",
      "\u001b[0;32m/tmp/pbs.14041820.admin01/ipykernel_187129/603942296.py\u001b[0m in \u001b[0;36m<module>\u001b[0;34m\u001b[0m\n\u001b[1;32m      1\u001b[0m \u001b[0;32mimport\u001b[0m \u001b[0mmatplotlib\u001b[0m\u001b[0;34m.\u001b[0m\u001b[0mpyplot\u001b[0m \u001b[0;32mas\u001b[0m \u001b[0mplt\u001b[0m\u001b[0;34m\u001b[0m\u001b[0;34m\u001b[0m\u001b[0m\n\u001b[1;32m      2\u001b[0m \u001b[0;32mimport\u001b[0m \u001b[0mrasterio\u001b[0m\u001b[0;34m\u001b[0m\u001b[0;34m\u001b[0m\u001b[0m\n\u001b[0;32m----> 3\u001b[0;31m \u001b[0;32mfrom\u001b[0m \u001b[0mbulldozer\u001b[0m\u001b[0;34m.\u001b[0m\u001b[0mcore\u001b[0m\u001b[0;34m.\u001b[0m\u001b[0mdtm_postprocess\u001b[0m \u001b[0;32mimport\u001b[0m \u001b[0mPostProcess\u001b[0m\u001b[0;34m\u001b[0m\u001b[0;34m\u001b[0m\u001b[0m\n\u001b[0m",
      "\u001b[0;31mModuleNotFoundError\u001b[0m: No module named 'bulldozer'"
     ]
    }
   ],
   "source": [
    "import matplotlib.pyplot as plt\n",
    "import rasterio\n",
    "from bulldozer.core.dtm_postprocess import PostProcess"
   ]
  },
  {
   "cell_type": "markdown",
   "id": "c6c0cb0f",
   "metadata": {},
   "source": [
    "## Sinks mask creation\n",
    "This function allows you to create a boolean sinks mask that flags the sharp_sinks in the input *Digital Terrain Model* DTM.   \n",
    "You could also use the output low frequency DTM provided by the function in order to interpolate and smooth your disturbed DTM.   \n",
    "Setup:"
   ]
  },
  {
   "cell_type": "code",
   "execution_count": null,
   "id": "98fa5813",
   "metadata": {},
   "outputs": [],
   "source": [
    "dtm_path = '../tests/data/postprocess/disturbed_dtm.tif'"
   ]
  },
  {
   "cell_type": "markdown",
   "id": "12868f01",
   "metadata": {},
   "source": [
    "*We don't retrieve the first output of the function here. We just want to see the output mask.*"
   ]
  },
  {
   "cell_type": "code",
   "execution_count": null,
   "id": "d15e7b3b",
   "metadata": {},
   "outputs": [],
   "source": [
    "with rasterio.open(dtm_path) as dtm_dataset:\n",
    "    postprocess = PostProcess()\n",
    "    dtm = dtm_dataset.read(1)\n",
    "    _, mask = postprocess.build_sinks_mask(dtm)"
   ]
  },
  {
   "cell_type": "markdown",
   "id": "18555e36",
   "metadata": {},
   "source": [
    "✅ **Done!**  \n",
    "We can now observe the results:"
   ]
  },
  {
   "cell_type": "code",
   "execution_count": null,
   "id": "19e2e3ad",
   "metadata": {},
   "outputs": [],
   "source": [
    "fig, axarr = plt.subplots(1, 2, figsize=(10, 6))\n",
    "fig.suptitle('Bulldozer Sinks mask generation', fontsize=16)\n",
    "\n",
    "axarr[0].imshow(dtm)\n",
    "axarr[0].set_title('Input DTM')\n",
    "\n",
    "axarr[1].imshow(mask)\n",
    "axarr[1].set_title('Output sinks mask')\n",
    "fig.tight_layout()"
   ]
  },
  {
   "cell_type": "markdown",
   "id": "f9663b9c",
   "metadata": {},
   "source": [
    "## DHM generation\n",
    "This function allows you to create a *Digital Height Model* (DHM) from a *Digital Surface Model* (DSM) and a *Digital Terrain Model* DTM (DHM = DSM - DTM).  \n",
    "Setup:"
   ]
  },
  {
   "cell_type": "code",
   "execution_count": null,
   "id": "d0528c90",
   "metadata": {},
   "outputs": [],
   "source": [
    "dtm_path = '../tests/data/postprocess/dtm.tif'\n",
    "dtm_path = '../tests/data/postprocess/dsm_test.tif'\n",
    "output_dir = '../tests/data/'"
   ]
  },
  {
   "cell_type": "markdown",
   "id": "781ed8e6",
   "metadata": {},
   "source": [
    "⚠️ You have to provide a raster DTM, so it's required to open your DTM tif file: "
   ]
  },
  {
   "cell_type": "code",
   "execution_count": null,
   "id": "d4153e44",
   "metadata": {},
   "outputs": [],
   "source": [
    "with rasterio.open(dtm_path) as dtm_dataset:\n",
    "    postprocess = PostProcess()\n",
    "    dtm = dtm_dataset.read(1)\n",
    "    postprocess.build_dhm(dtm, dsm_path, output_dir)"
   ]
  },
  {
   "cell_type": "markdown",
   "id": "afaeaf2d",
   "metadata": {},
   "source": [
    "✅ **Done!**  \n",
    "We can now observe the results:"
   ]
  },
  {
   "cell_type": "code",
   "execution_count": null,
   "id": "9fefc397",
   "metadata": {},
   "outputs": [],
   "source": [
    "with rasterio.open(dsm_path) as dsm:\n",
    "    with rasterio.open(output_dir + 'DHM.tif') as dhm:\n",
    "        fig, axarr = plt.subplots(1, 3, figsize=(10, 6))\n",
    "        fig.suptitle('Bulldozer DHM generation', fontsize=16)\n",
    "\n",
    "        axarr[0].imshow(dsm.read(1))\n",
    "        axarr[0].set_title('Input DSM')\n",
    "        \n",
    "        axarr[1].imshow(dtm)\n",
    "        axarr[1].set_title('extracted DTM')\n",
    "        \n",
    "        axarr[2].imshow(dhm.read(1))\n",
    "        axarr[2].set_title('output DHM')\n",
    "        fig.tight_layout()"
   ]
  },
  {
   "cell_type": "markdown",
   "id": "d48ee852",
   "metadata": {},
   "source": [
    "## Bulldozer full post-process pipeline\n",
    "The full post-process pipeline is designed to be used after the bulldozer DTM extraction.  \n",
    "It should not be called in standalone because it requires files generated by Bulldozer pre-process and DTM extraction (ex: *quality_mask.tif*).  \n",
    "⚠️ This part of the tutorial is adapted to the situation where the post-process step had an issue (example: walltime limit exceed) but the previous steps went well.  \n",
    "Setup:"
   ]
  },
  {
   "cell_type": "code",
   "execution_count": null,
   "id": "83699f4e",
   "metadata": {},
   "outputs": [],
   "source": [
    "dtm_path = '../tests/data/postprocess/processed_dtm_test.tif'\n",
    "quality_mask_path = '../tests/data/postprocess/quality_mask_test.tif'\n",
    "output_dir = '../tests/data/postprocess/'"
   ]
  },
  {
   "cell_type": "markdown",
   "id": "a96dc78f",
   "metadata": {},
   "source": [
    "Pipeline call:"
   ]
  },
  {
   "cell_type": "code",
   "execution_count": null,
   "id": "92570039",
   "metadata": {},
   "outputs": [],
   "source": [
    "postprocess = PostProcess()\n",
    "postprocess.run(dtm_path, output_dir, quality_mask_path)"
   ]
  },
  {
   "cell_type": "markdown",
   "id": "65471831",
   "metadata": {},
   "source": [
    "✅ **Done!**  \n",
    "We can now observe the results:"
   ]
  },
  {
   "cell_type": "code",
   "execution_count": 3,
   "id": "63f7e533",
   "metadata": {},
   "outputs": [
    {
     "ename": "NameError",
     "evalue": "name 'rasterio' is not defined",
     "output_type": "error",
     "traceback": [
      "\u001b[0;31m---------------------------------------------------------------------------\u001b[0m",
      "\u001b[0;31mNameError\u001b[0m                                 Traceback (most recent call last)",
      "\u001b[0;32m/tmp/pbs.14041820.admin01/ipykernel_187129/1446034744.py\u001b[0m in \u001b[0;36m<module>\u001b[0;34m\u001b[0m\n\u001b[0;32m----> 1\u001b[0;31m \u001b[0;32mwith\u001b[0m \u001b[0mrasterio\u001b[0m\u001b[0;34m.\u001b[0m\u001b[0mopen\u001b[0m\u001b[0;34m(\u001b[0m\u001b[0mdtm_path\u001b[0m\u001b[0;34m)\u001b[0m \u001b[0;32mas\u001b[0m \u001b[0mdtm\u001b[0m\u001b[0;34m:\u001b[0m\u001b[0;34m\u001b[0m\u001b[0;34m\u001b[0m\u001b[0m\n\u001b[0m\u001b[1;32m      2\u001b[0m     \u001b[0;32mwith\u001b[0m \u001b[0mrasterio\u001b[0m\u001b[0;34m.\u001b[0m\u001b[0mopen\u001b[0m\u001b[0;34m(\u001b[0m\u001b[0moutput_dir\u001b[0m \u001b[0;34m+\u001b[0m \u001b[0;34m'DTM.tif'\u001b[0m\u001b[0;34m)\u001b[0m \u001b[0;32mas\u001b[0m \u001b[0mpost_processed_dtm\u001b[0m\u001b[0;34m:\u001b[0m\u001b[0;34m\u001b[0m\u001b[0;34m\u001b[0m\u001b[0m\n\u001b[1;32m      3\u001b[0m \u001b[0;34m\u001b[0m\u001b[0m\n\u001b[1;32m      4\u001b[0m         \u001b[0mfig\u001b[0m\u001b[0;34m,\u001b[0m \u001b[0maxarr\u001b[0m \u001b[0;34m=\u001b[0m \u001b[0mplt\u001b[0m\u001b[0;34m.\u001b[0m\u001b[0msubplots\u001b[0m\u001b[0;34m(\u001b[0m\u001b[0;36m1\u001b[0m\u001b[0;34m,\u001b[0m \u001b[0;36m2\u001b[0m\u001b[0;34m,\u001b[0m \u001b[0mfigsize\u001b[0m\u001b[0;34m=\u001b[0m\u001b[0;34m(\u001b[0m\u001b[0;36m10\u001b[0m\u001b[0;34m,\u001b[0m \u001b[0;36m6\u001b[0m\u001b[0;34m)\u001b[0m\u001b[0;34m)\u001b[0m\u001b[0;34m\u001b[0m\u001b[0;34m\u001b[0m\u001b[0m\n\u001b[1;32m      5\u001b[0m         \u001b[0mfig\u001b[0m\u001b[0;34m.\u001b[0m\u001b[0msuptitle\u001b[0m\u001b[0;34m(\u001b[0m\u001b[0;34m'Bulldozer DTM before and after post-processing'\u001b[0m\u001b[0;34m,\u001b[0m \u001b[0mfontsize\u001b[0m\u001b[0;34m=\u001b[0m\u001b[0;36m16\u001b[0m\u001b[0;34m)\u001b[0m\u001b[0;34m\u001b[0m\u001b[0;34m\u001b[0m\u001b[0m\n",
      "\u001b[0;31mNameError\u001b[0m: name 'rasterio' is not defined"
     ]
    }
   ],
   "source": [
    "with rasterio.open(dtm_path) as dtm:\n",
    "    with rasterio.open(output_dir + 'DTM.tif') as post_processed_dtm:\n",
    "        \n",
    "        fig, axarr = plt.subplots(1, 2, figsize=(10, 6))\n",
    "        fig.suptitle('Bulldozer DTM before and after post-processing', fontsize=16)\n",
    "        \n",
    "        axarr[0].imshow(dtm.read(1))\n",
    "        axarr[0].set_title('DTM before post-process')\n",
    "\n",
    "        axarr[1].imshow(post_processed_dtm.read(1))\n",
    "        axarr[1].set_title('DTM after post-process')\n",
    "        fig.tight_layout()"
   ]
  }
 ],
 "metadata": {
  "kernelspec": {
   "display_name": "Python 3 (ipykernel)",
   "language": "python",
   "name": "python3"
  },
  "language_info": {
   "codemirror_mode": {
    "name": "ipython",
    "version": 3
   },
   "file_extension": ".py",
   "mimetype": "text/x-python",
   "name": "python",
   "nbconvert_exporter": "python",
   "pygments_lexer": "ipython3",
   "version": "3.8.10"
  }
 },
 "nbformat": 4,
 "nbformat_minor": 5
}
