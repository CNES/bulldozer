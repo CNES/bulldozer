{
 "cells": [
  {
   "cell_type": "markdown",
   "id": "173a9704",
   "metadata": {},
   "source": [
    "*Copyright (c) 2021 Centre National d'Etudes Spatiales (CNES).  \n",
    " This file is part of Bulldozer.  \n",
    " All rights reserved.*\n",
    "\n",
    "# Bulldozer pre-process\n",
    "\n",
    "This notebook aims to present the tools available in the pre-processing module of Bulldozer."
   ]
  },
  {
   "cell_type": "code",
   "execution_count": null,
   "id": "6af82953",
   "metadata": {},
   "outputs": [],
   "source": [
    "import matplotlib.pyplot as plt\n",
    "import rasterio\n",
    "from bulldozer.core.dsm_preprocess import PreProcess"
   ]
  },
  {
   "cell_type": "markdown",
   "id": "aaaf7248",
   "metadata": {},
   "source": [
    "## Build inner nodata mask\n",
    "This functions allows ou to create a mask of all the nodata points inside the input *Digital Surface Model* (DSM) **without** the border nodata.  \n",
    "*For example if the input DSM is skewed in the TIF file and the corners are nodata, these pixels will not be present in the inner nodata mask.*  \n",
    "Those inner nodata points mainly come from correlation or oclusion issues during the DSM computation.  \n",
    "Setup:"
   ]
  },
  {
   "cell_type": "code",
   "execution_count": null,
   "id": "40b0d98e",
   "metadata": {},
   "outputs": [],
   "source": [
    "dsm_path = '../tests/data/postprocess/dsm_test.tif'"
   ]
  },
  {
   "cell_type": "markdown",
   "id": "c9f44008",
   "metadata": {},
   "source": [
    "⚠️ You have to provide a raster format DSM, so it's required to open your DSM tif file: "
   ]
  },
  {
   "cell_type": "code",
   "execution_count": null,
   "id": "9af9625d",
   "metadata": {},
   "outputs": [],
   "source": [
    "with rasterio.open(dsm_path) as dsm_dataset:\n",
    "    preprocess = PreProcess()\n",
    "    dsm = dsm_dataset.read(1)\n",
    "    mask = preprocess.build_inner_nodata_mask(dsm)"
   ]
  },
  {
   "cell_type": "markdown",
   "id": "3e66f5ac",
   "metadata": {},
   "source": [
    "✅ **Done!**  \n",
    "We can now observe the results:"
   ]
  },
  {
   "cell_type": "code",
   "execution_count": null,
   "id": "b2d057c8",
   "metadata": {},
   "outputs": [],
   "source": [
    "fig, axarr = plt.subplots(1, 2, figsize=(10, 6))\n",
    "fig.suptitle('Bulldozer inner nodata mask generation', fontsize=16)\n",
    "\n",
    "axarr[0].imshow(dsm)\n",
    "axarr[0].set_title('Input DSM')\n",
    "\n",
    "axarr[1].imshow(mask)\n",
    "axarr[1].set_title('Output inner nodata mask')\n",
    "fig.tight_layout()"
   ]
  },
  {
   "cell_type": "markdown",
   "id": "be123283",
   "metadata": {},
   "source": [
    "## Build disturbance mask\n",
    "This method generates a mask that matches all heavily disturbed areas in the input DSM.  \n",
    "These areas often correspond to correlation errors from the DSM calculation (ex: water areas).  \n",
    "Setup:"
   ]
  },
  {
   "cell_type": "code",
   "execution_count": null,
   "id": "fede5ee9",
   "metadata": {},
   "outputs": [],
   "source": [
    "# Required parameters\n",
    "dsm_path = '../tests/data/postprocess/dsm_test.tif'\n",
    "nb_max_worker = 16\n",
    "\n",
    "# Optionnal parameters\n",
    "slope_treshold = 2.0\n",
    "is_four_connexity = True"
   ]
  },
  {
   "cell_type": "markdown",
   "id": "f8e57bb6",
   "metadata": {},
   "source": [
    "The slope treshold is the maximum value of slope between two consecutive pixels before they are considered disturbed.  \n",
    "The boolean is_four_connexity indicates the numbers of explored axis, by default horizontal and vertical (True), otherwise horizontal, vertical and diagonals (False)."
   ]
  },
  {
   "cell_type": "code",
   "execution_count": null,
   "id": "6dde36fc",
   "metadata": {},
   "outputs": [],
   "source": [
    "preprocess = PreProcess()\n",
    "mask = preprocess.build_disturbance_mask(dsm_path, nb_max_worker, slope_threshold, is_four_connexity)"
   ]
  },
  {
   "cell_type": "markdown",
   "id": "f8fdf54c",
   "metadata": {},
   "source": [
    "✅ **Done!**  \n",
    "We can now observe the results:"
   ]
  },
  {
   "cell_type": "code",
   "execution_count": null,
   "id": "9abdf6b9",
   "metadata": {},
   "outputs": [],
   "source": [
    "fig, axarr = plt.subplots(1, 2, figsize=(10, 6))\n",
    "fig.suptitle('Bulldozer disturbance mask computation', fontsize=16)\n",
    "\n",
    "axarr[0].imshow(dsm)\n",
    "axarr[0].set_title('Input DSM')\n",
    "\n",
    "axarr[1].imshow(mask)\n",
    "axarr[1].set_title('Output disturbance mask')\n",
    "fig.tight_layout()"
   ]
  },
  {
   "cell_type": "markdown",
   "id": "0e7e40c4",
   "metadata": {},
   "source": [
    "## Bulldozer full pre-process pipeline\n",
    "The full pre-process pipeline is designed to be used before the bulldozer DTM extraction.  \n",
    "⚠️ It should not be called in standalone because it produces a pre-processed DSM that is only designed to be used with the Bulldozer DTM extraction.  \n",
    "This part of the tutorial is adapted to the situation where you want to run the Bulldozer pipeline step by step (for example in the case you want to make separated jobs and then submit them to a cluster).   \n",
    "Setup:\n"
   ]
  },
  {
   "cell_type": "code",
   "execution_count": null,
   "id": "dfa5e5e6",
   "metadata": {},
   "outputs": [],
   "source": [
    "dsm_path = '../tests/data/postprocess/dsm_test.tif'\n",
    "output_dir = '../tests/data/preprocess/'\n",
    "nb_max_worker = 16"
   ]
  },
  {
   "cell_type": "markdown",
   "id": "c5671873",
   "metadata": {},
   "source": [
    "*In this tutorial we don not use optional parameters. If you want more information about them, check the documentation.*"
   ]
  },
  {
   "cell_type": "code",
   "execution_count": null,
   "id": "1e269ad8",
   "metadata": {},
   "outputs": [],
   "source": [
    "preprocess = PreProcess()\n",
    "preprocess.run(dsm_path, output_dir, nb_max_worker)"
   ]
  },
  {
   "cell_type": "markdown",
   "id": "1f299e53",
   "metadata": {},
   "source": [
    "✅ **Done!**  "
   ]
  }
 ],
 "metadata": {
  "kernelspec": {
   "display_name": "Python 3 (ipykernel)",
   "language": "python",
   "name": "python3"
  },
  "language_info": {
   "codemirror_mode": {
    "name": "ipython",
    "version": 3
   },
   "file_extension": ".py",
   "mimetype": "text/x-python",
   "name": "python",
   "nbconvert_exporter": "python",
   "pygments_lexer": "ipython3",
   "version": "3.8.10"
  }
 },
 "nbformat": 4,
 "nbformat_minor": 5
}
