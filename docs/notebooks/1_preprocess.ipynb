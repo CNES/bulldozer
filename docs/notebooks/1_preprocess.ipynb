{
 "cells": [
  {
   "cell_type": "markdown",
   "id": "81b06d5f",
   "metadata": {},
   "source": [
    "*Copyright (c) 2022 Centre National d'Etudes Spatiales (CNES).  \n",
    " This file is part of Bulldozer.  \n",
    " All rights reserved.*\n",
    "\n",
    "# Bulldozer pre-process\n",
    "\n",
    "This notebook aims to present the tools available in the pre-processing module of Bulldozer."
   ]
  },
  {
   "cell_type": "code",
   "execution_count": 4,
   "id": "b5a34b9e",
   "metadata": {},
   "outputs": [],
   "source": [
    "import rasterio\n",
    "import matplotlib.pyplot as plt\n",
    "from bulldozer.preprocessing.dsm_preprocess import preprocess_pipeline"
   ]
  },
  {
   "cell_type": "markdown",
   "id": "b90e5ca0",
   "metadata": {},
   "source": [
    "## Build nodata masks\n",
    "This function allows you to create a mask of all the nodata points inside the input *Digital Surface Model* (DSM) and also a mask of the border nodata.  \n",
    "*For example if the input DSM is skewed in the TIF file and the corners are nodata, these pixels will be flagged in the border nodata mask.*  \n",
    "The inner nodata points mainly come from correlation or oclusion issues during the DSM computation.  \n",
    "Setup:"
   ]
  },
  {
   "cell_type": "code",
   "execution_count": null,
   "id": "b101a3de",
   "metadata": {},
   "outputs": [],
   "source": [
    "dsm_path = '../tests/data/postprocess/dsm_test.tif'"
   ]
  },
  {
   "cell_type": "markdown",
   "id": "327804b6",
   "metadata": {},
   "source": [
    "⚠️ You have to provide a raster format DSM, so it's required to open your DSM tif file: "
   ]
  },
  {
   "cell_type": "code",
   "execution_count": null,
   "id": "2643c6da",
   "metadata": {},
   "outputs": [],
   "source": [
    "with rasterio.open(dsm_path) as dsm_dataset:\n",
    "    preprocess = PreProcess()\n",
    "    dsm = dsm_dataset.read(1)\n",
    "    mask = preprocess.build_nodata_mask(dsm)"
   ]
  },
  {
   "cell_type": "markdown",
   "id": "6351b849",
   "metadata": {},
   "source": [
    "✅ **Done!**  \n",
    "We can now observe the results:"
   ]
  },
  {
   "cell_type": "code",
   "execution_count": null,
   "id": "0b83c51b",
   "metadata": {},
   "outputs": [],
   "source": [
    "fig, axarr = plt.subplots(1, 2, figsize=(10, 6))\n",
    "fig.suptitle('Bulldozer inner nodata mask generation', fontsize=16)\n",
    "\n",
    "axarr[0].imshow(dsm)\n",
    "axarr[0].set_title('Input DSM')\n",
    "\n",
    "axarr[1].imshow(mask)\n",
    "axarr[1].set_title('Output inner nodata mask')\n",
    "fig.tight_layout()"
   ]
  },
  {
   "cell_type": "markdown",
   "id": "efc63860",
   "metadata": {},
   "source": [
    "## Build disturbance mask\n",
    "This method generates a mask that matches all heavily disturbed areas in the input DSM.  \n",
    "These areas often correspond to correlation errors from the DSM calculation (ex: water areas).  \n",
    "Setup:"
   ]
  },
  {
   "cell_type": "code",
   "execution_count": 6,
   "id": "02c0dec7",
   "metadata": {},
   "outputs": [],
   "source": [
    "# Required parameters\n",
    "dsm_path = '../tests/data/postprocess/dsm_test.tif'\n",
    "nb_max_worker = 16\n",
    "\n",
    "# Optionnal parameters\n",
    "slope_treshold = 2.0\n",
    "is_four_connexity = True"
   ]
  },
  {
   "cell_type": "markdown",
   "id": "b401237b",
   "metadata": {},
   "source": [
    "The slope treshold is the maximum value of slope between two consecutive pixels before they are considered disturbed.  \n",
    "The boolean is_four_connexity indicates the numbers of explored axis, by default horizontal and vertical (True), otherwise horizontal, vertical and diagonals (False)."
   ]
  },
  {
   "cell_type": "code",
   "execution_count": 7,
   "id": "63e74c0c",
   "metadata": {},
   "outputs": [
    {
     "ename": "NameError",
     "evalue": "name 'slope_threshold' is not defined",
     "output_type": "error",
     "traceback": [
      "\u001b[0;31m---------------------------------------------------------------------------\u001b[0m",
      "\u001b[0;31mNameError\u001b[0m                                 Traceback (most recent call last)",
      "Input \u001b[0;32mIn [7]\u001b[0m, in \u001b[0;36m<module>\u001b[0;34m\u001b[0m\n\u001b[1;32m      1\u001b[0m preprocess \u001b[38;5;241m=\u001b[39m PreProcess()\n\u001b[0;32m----> 2\u001b[0m mask \u001b[38;5;241m=\u001b[39m preprocess\u001b[38;5;241m.\u001b[39mbuild_disturbance_mask(dsm_path, nb_max_worker, \u001b[43mslope_threshold\u001b[49m, is_four_connexity)\n",
      "\u001b[0;31mNameError\u001b[0m: name 'slope_threshold' is not defined"
     ]
    }
   ],
   "source": [
    "preprocess = PreProcess()\n",
    "mask = preprocess.build_disturbance_mask(dsm_path, nb_max_worker, slope_treshold, is_four_connexity)"
   ]
  },
  {
   "cell_type": "markdown",
   "id": "79c4c63d",
   "metadata": {},
   "source": [
    "✅ **Done!**  \n",
    "We can now observe the results:"
   ]
  },
  {
   "cell_type": "code",
   "execution_count": null,
   "id": "24ec89f1",
   "metadata": {},
   "outputs": [],
   "source": [
    "fig, axarr = plt.subplots(1, 2, figsize=(10, 6))\n",
    "fig.suptitle('Bulldozer disturbance mask computation', fontsize=16)\n",
    "\n",
    "axarr[0].imshow(dsm)\n",
    "axarr[0].set_title('Input DSM')\n",
    "\n",
    "axarr[1].imshow(mask)\n",
    "axarr[1].set_title('Output disturbance mask')\n",
    "fig.tight_layout()"
   ]
  },
  {
   "cell_type": "markdown",
   "id": "d2a7045c",
   "metadata": {},
   "source": [
    "## Bulldozer full pre-process pipeline\n",
    "The full pre-process pipeline is designed to be used before the bulldozer DTM extraction.  \n",
    "⚠️ It should not be called in standalone because it produces a pre-processed DSM that is only designed to be used with the Bulldozer DTM extraction.  \n",
    "This part of the tutorial is adapted to the situation where you want to run the Bulldozer pipeline step by step (for example in the case you want to make separated jobs and then submit them to a cluster).   \n",
    "Setup:\n"
   ]
  },
  {
   "cell_type": "code",
   "execution_count": null,
   "id": "5b63ddb9",
   "metadata": {},
   "outputs": [],
   "source": [
    "from bulldozer.preprocessing.dsm_preprocess import preprocess_pipeline\n",
    "\n",
    "dsm_path = '../tests/data/postprocess/dsm_test.tif'\n",
    "output_dir = '../tests/data/preprocess/'\n",
    "nb_max_worker = 16"
   ]
  },
  {
   "cell_type": "markdown",
   "id": "522f18f3",
   "metadata": {},
   "source": [
    "*In this tutorial we don not use optional parameters. If you want more information about them, check the documentation.*"
   ]
  },
  {
   "cell_type": "code",
   "execution_count": null,
   "id": "43ebca5d",
   "metadata": {},
   "outputs": [],
   "source": [
    "preprocessed_dsm_path, quality_mask_path = preprocess_pipeline(dsm_path, output_dir, nb_max_workers, nodata, slope_threshold, four_connexity, min_valid_height)"
   ]
  },
  {
   "cell_type": "markdown",
   "id": "1187dabc",
   "metadata": {},
   "source": [
    "✅ **Done!**  "
   ]
  }
 ],
 "metadata": {
  "kernelspec": {
   "display_name": "Python 3 (ipykernel)",
   "language": "python",
   "name": "python3"
  },
  "language_info": {
   "codemirror_mode": {
    "name": "ipython",
    "version": 3
   },
   "file_extension": ".py",
   "mimetype": "text/x-python",
   "name": "python",
   "nbconvert_exporter": "python",
   "pygments_lexer": "ipython3",
   "version": "3.8.10"
  }
 },
 "nbformat": 4,
 "nbformat_minor": 5
}
