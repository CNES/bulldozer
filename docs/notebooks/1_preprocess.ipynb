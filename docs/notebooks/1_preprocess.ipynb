{
 "cells": [
  {
   "cell_type": "markdown",
   "id": "81b06d5f",
   "metadata": {},
   "source": [
    "*Copyright (c) 2022 Centre National d'Etudes Spatiales (CNES).  \n",
    " This file is part of Bulldozer.  \n",
    " All rights reserved.*\n",
    "\n",
    "# Bulldozer pre-processing\n",
    "\n",
    "This notebook aims to present the tools available in the pre-processing module of **Bulldozer**:\n",
    "* [Border nodata detection](#Border-nodata-detection)\n",
    "* [Disturbance detection](#Disturbance-detection)\n",
    "* [Full preprocess pipeline](#Full-preprocess-pipeline)"
   ]
  },
  {
   "cell_type": "markdown",
   "id": "b90e5ca0",
   "metadata": {},
   "source": [
    "## Border nodata detection"
   ]
  },
  {
   "cell_type": "markdown",
   "id": "30703145",
   "metadata": {},
   "source": [
    "In *Digital Surface Model* (DSM) we can distinguish two type of nodata. We call the *inner nodata* the nodata points that mainly come from correlation or oclusion issues during the DSM computation. Then the *border nodata* are the nodata points on the side that fills the image shape (for example if the input DSM is skewed in the TIF file and the corners are nodata).  \n",
    "This function extract those points and provide the corresponding mask."
   ]
  },
  {
   "cell_type": "markdown",
   "id": "bbdd0a04",
   "metadata": {},
   "source": [
    "### Setup"
   ]
  },
  {
   "cell_type": "code",
   "execution_count": null,
   "id": "b101a3de",
   "metadata": {},
   "outputs": [],
   "source": [
    "from bulldozer.preprocessing.dsm_preprocess import build_border_nodata_mask\n",
    "\n",
    "# Required parameter\n",
    "dsm_path = '../tests/data/postprocess/dsm_test.tif'\n",
    "\n",
    "# Optional\n",
    "nb_max_workers = 16\n",
    "nodata = -32768.0"
   ]
  },
  {
   "cell_type": "markdown",
   "id": "51ccb1d2",
   "metadata": {},
   "source": [
    "### Usage"
   ]
  },
  {
   "cell_type": "markdown",
   "id": "327804b6",
   "metadata": {},
   "source": [
    "Basic call (sequential=only 1 CPU used):"
   ]
  },
  {
   "cell_type": "code",
   "execution_count": null,
   "id": "2643c6da",
   "metadata": {},
   "outputs": [],
   "source": [
    "border_nodata_mask = build_border_nodata_mask(dsm_path=dsm_path)"
   ]
  },
  {
   "cell_type": "markdown",
   "id": "3b631411",
   "metadata": {},
   "source": [
    "*(Optional)* Call with optional parameters:"
   ]
  },
  {
   "cell_type": "code",
   "execution_count": null,
   "id": "11fe57db",
   "metadata": {},
   "outputs": [],
   "source": [
    "border_nodata_mask = build_border_nodata_mask(dsm_path=dsm_path, nb_max_workers=nb_max_workers, nodata=nodata)"
   ]
  },
  {
   "cell_type": "markdown",
   "id": "6351b849",
   "metadata": {},
   "source": [
    "✅ **Done!**  \n",
    "If you want to compute the *inner nodata*, you just have to run the following code :\n",
    "```python\n",
    "inner_nodata_mask = np.logical_and(np.logical_not(border_nodata_mask), dsm == nodata)\n",
    "```"
   ]
  },
  {
   "cell_type": "markdown",
   "id": "efc63860",
   "metadata": {},
   "source": [
    "## Disturbance detection"
   ]
  },
  {
   "cell_type": "markdown",
   "id": "f2cf9ae9",
   "metadata": {},
   "source": [
    "This method generates a mask that matches all heavily disturbed areas in the input DSM.  \n",
    "These areas often correspond to correlation errors from the DSM calculation (ex: water areas).  "
   ]
  },
  {
   "cell_type": "markdown",
   "id": "4eda8d31",
   "metadata": {},
   "source": [
    "### Setup"
   ]
  },
  {
   "cell_type": "code",
   "execution_count": 6,
   "id": "02c0dec7",
   "metadata": {},
   "outputs": [],
   "source": [
    "from bulldozer.preprocessing.dsm_preprocess import build_disturbance_mask\n",
    "\n",
    "# Required parameters\n",
    "dsm_path = '../tests/data/postprocess/dsm_test.tif'\n",
    "\n",
    "# Optionnal parameters\n",
    "nb_max_worker = 16\n",
    "slope_treshold = 2.0\n",
    "is_four_connexity = True\n",
    "nodata = -32768.0"
   ]
  },
  {
   "cell_type": "markdown",
   "id": "dba968d4",
   "metadata": {},
   "source": [
    "### Usage"
   ]
  },
  {
   "cell_type": "markdown",
   "id": "1c3417b2",
   "metadata": {},
   "source": [
    "Basic call (sequential=only 1 CPU used):"
   ]
  },
  {
   "cell_type": "code",
   "execution_count": null,
   "id": "16796055",
   "metadata": {},
   "outputs": [],
   "source": [
    "disturbed_areas_mask = build_disturbance_mask(dsm_path=dsm_path)"
   ]
  },
  {
   "cell_type": "markdown",
   "id": "2eff6388",
   "metadata": {},
   "source": [
    "*(Optional)* Call with optional parameters:"
   ]
  },
  {
   "cell_type": "code",
   "execution_count": null,
   "id": "456f1cbb",
   "metadata": {},
   "outputs": [],
   "source": [
    "disturbed_areas_mask = build_disturbance_mask(dsm_path=dsm_path, nb_max_worker=nb_max_worker, slope_treshold=slope_treshold, is_four_connexity=is_four_connexity, nodata=nodata)"
   ]
  },
  {
   "cell_type": "markdown",
   "id": "79c4c63d",
   "metadata": {},
   "source": [
    "✅ **Done!**  "
   ]
  },
  {
   "cell_type": "markdown",
   "id": "d2a7045c",
   "metadata": {},
   "source": [
    "## Full preprocess pipeline"
   ]
  },
  {
   "cell_type": "markdown",
   "id": "da20714c",
   "metadata": {},
   "source": [
    "The full pre-process pipeline is designed to be used before the **Bulldozer** DTM extraction.  \n",
    "⚠️ It should not be called in standalone because it produces a pre-processed DSM that is only designed to be used with the **Bulldozer** DTM extraction.  \n",
    "This part of the tutorial is adapted to the situation where you want to run the **Bulldozer** pipeline step by step (for example in the case you want to make separated jobs and then submit them to a cluster)."
   ]
  },
  {
   "cell_type": "markdown",
   "id": "5216fd65",
   "metadata": {},
   "source": [
    "### Setup"
   ]
  },
  {
   "cell_type": "code",
   "execution_count": null,
   "id": "5b63ddb9",
   "metadata": {},
   "outputs": [],
   "source": [
    "from bulldozer.preprocessing.dsm_preprocess import preprocess_pipeline\n",
    "\n",
    "# Required parameters\n",
    "dsm_path = '../tests/data/postprocess/dsm_test.tif'\n",
    "output_dir = '../tests/data/preprocess/'\n",
    "\n",
    "# Optional\n",
    "nb_workers = 16\n",
    "nodata = -32768.0\n",
    "slope_threshold = 2.0\n",
    "four_connexity = True\n",
    "min_valid_height = -32000.0\n"
   ]
  },
  {
   "cell_type": "markdown",
   "id": "38d35b78",
   "metadata": {},
   "source": [
    "### Usage"
   ]
  },
  {
   "cell_type": "markdown",
   "id": "522f18f3",
   "metadata": {},
   "source": [
    "Basic pipeline call:"
   ]
  },
  {
   "cell_type": "code",
   "execution_count": null,
   "id": "43ebca5d",
   "metadata": {},
   "outputs": [],
   "source": [
    "preprocessed_dsm_path, quality_mask_path = preprocess_pipeline(dsm_path, output_dir)"
   ]
  },
  {
   "cell_type": "markdown",
   "id": "82f03a5b",
   "metadata": {},
   "source": [
    "*(Optional)* Preprocess pipeline call with all the options:"
   ]
  },
  {
   "cell_type": "code",
   "execution_count": null,
   "id": "67784839",
   "metadata": {},
   "outputs": [],
   "source": [
    "preprocessed_dsm_path, quality_mask_path = preprocess_pipeline(dsm_path, output_dir, nb_max_workers, nodata, slope_threshold, four_connexity, min_valid_height)"
   ]
  },
  {
   "cell_type": "markdown",
   "id": "1187dabc",
   "metadata": {},
   "source": [
    "✅ **Done!**  "
   ]
  }
 ],
 "metadata": {
  "kernelspec": {
   "display_name": "Python 3 (ipykernel)",
   "language": "python",
   "name": "python3"
  },
  "language_info": {
   "codemirror_mode": {
    "name": "ipython",
    "version": 3
   },
   "file_extension": ".py",
   "mimetype": "text/x-python",
   "name": "python",
   "nbconvert_exporter": "python",
   "pygments_lexer": "ipython3",
   "version": "3.8.10"
  }
 },
 "nbformat": 4,
 "nbformat_minor": 5
}
