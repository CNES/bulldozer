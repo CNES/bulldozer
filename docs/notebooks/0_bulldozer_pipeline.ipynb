{
 "cells": [
  {
   "cell_type": "markdown",
   "metadata": {},
   "source": [
    "*Copyright (c) 2022 Centre National d'Etudes Spatiales (CNES).  \n",
    " This file is part of Bulldozer.  \n",
    " All rights reserved.*\n",
    " \n",
    "# Bulldozer pipeline\n",
    "\n",
    "This notebook aims to describe how to call the the main **Bulldozer** pipeline:  \n",
    "* [Command Line Interface (CLI)](#Command-Line-Interface-(CLI))\n",
    "* [Python API](#Python-API)"
   ]
  },
  {
   "cell_type": "markdown",
   "metadata": {},
   "source": [
    "## Command Line Interface (CLI)"
   ]
  },
  {
   "cell_type": "markdown",
   "metadata": {},
   "source": [
    "First you have to create a configuration file or edit the `basic_conf_template.yaml` available in the `conf` directory.  \n",
    "You have to, at least, update the following parameters:\n",
    "```yaml\n",
    "# Input DSM path (expected format: \"<folder_1>/<folder_2>/<file>.<[tif/tiff]>\")\n",
    "dsm_path : \"<input_dsm.tif>\"\n",
    "# Output directory path (if the directory doesn't exist, create it)\n",
    "output_dir : \"<output_dir>\"\n",
    "```\n",
    "But you can also add others options. For example you can specify the number of CPU used or desactivate the DHM option:\n",
    "```yaml\n",
    "# If True, generates the DHM (DSM - DTM) in the output directory \n",
    "generate_dhm : False\n",
    "# If null, bulldozer will use the maximum number of available workers on your system\n",
    "nb_max_workers : 16\n",
    "```\n",
    "You can find the complete configuration file template `configuration_template.yaml` in the `conf` directory. "
   ]
  },
  {
   "cell_type": "markdown",
   "metadata": {},
   "source": [
    "You can now launch **Bulldozer** by using the following command:"
   ]
  },
  {
   "cell_type": "code",
   "execution_count": null,
   "metadata": {},
   "outputs": [],
   "source": [
    "!bulldozer --conf ../../tests/data/pipeline/config.yaml"
   ]
  },
  {
   "cell_type": "markdown",
   "metadata": {},
   "source": [
    "✅ **Done!**  "
   ]
  },
  {
   "cell_type": "markdown",
   "metadata": {},
   "source": [
    "## Python API"
   ]
  },
  {
   "cell_type": "markdown",
   "metadata": {
    "tags": []
   },
   "source": [
    "### Using Configuration File"
   ]
  },
  {
   "cell_type": "markdown",
   "metadata": {},
   "source": [
    "You can also call the main **Bullodzer** pipeline through a Python API.  \n",
    "As describe in the [Command Line Interface (CLI) section](#Command-Line-Interface-(CLI)), you can use a YAML configuration file (template available in the `conf` directory)."
   ]
  },
  {
   "cell_type": "markdown",
   "metadata": {},
   "source": [
    "#### Setup"
   ]
  },
  {
   "cell_type": "code",
   "execution_count": null,
   "metadata": {},
   "outputs": [],
   "source": [
    "from bulldozer.pipeline.bullodzer_pipeline import dsm_to_dtm\n",
    "\n",
    "config_path = \"../../tests/data/pipeline/config.yaml\""
   ]
  },
  {
   "cell_type": "markdown",
   "metadata": {},
   "source": [
    "#### Usage"
   ]
  },
  {
   "cell_type": "code",
   "execution_count": null,
   "metadata": {},
   "outputs": [],
   "source": [
    "dsm_to_dtm(config_path)"
   ]
  },
  {
   "cell_type": "markdown",
   "metadata": {},
   "source": [
    "✅ **Done!**  "
   ]
  },
  {
   "cell_type": "markdown",
   "metadata": {
    "tags": []
   },
   "source": [
    "### Using the function parameters"
   ]
  },
  {
   "cell_type": "markdown",
   "metadata": {},
   "source": [
    "You can also directly provide the parameters without using a configuration file.  \n",
    "\n",
    "#### Basic parameters\n",
    "| Name                  | Description                            | Type    | Default value  | Required |\n",
    "|:----------------------|:---------------------------------------|:--------|:---------------|:---------|\n",
    "| `dsm_path`            | Path to the input DSM                  | *str*   | No             | True     |\n",
    "| `output_dir`          | Bulldozer output directory             | *str*   | No             | True     |\n",
    "| `generate_dhm`        | If True, generates the DHM (DSM - DTM) | *bool*  | False          | False    |\n",
    "| `max_object_width`    | Foreground max object width (in meter) | *int*   | 16             | False    |\n",
    "| `output_resolution`   | Output DTM resolution                  | *float* | Input DSM res. | False    |\n",
    "\n",
    "#### Advanced settings\n",
    "\n",
    "| Name                  | Description                                                | Type    | Default value                              | Required |\n",
    "|:----------------------|:-----------------------------------------------------------|:--------|:-------------------------------------------|:---------|\n",
    "| `nodata`              | Nodata value of the input DSM                              | *float* | Nodata value from the input DSM metadata   | False    |\n",
    "| `min_valid_height`    | DSM minimum valid elevation. All the points lower this threshold will be consider as nodata | *float* |  None     | False    |\n",
    "| `nb_max_workers`      | Number of availables workers (for multiprocessing purpose) | *int*   | Number of CPU of the current node/computer | False    |\n",
    "| `check_intersection`  |If True, this flag allows snapping DTM values above the DSM to the DSM values in order to satisfy the property that DTM is always below the DSM | *bool*  | False    | False |\n",
    "| `developper_mode`     | If True, keep the intermediate results                     | *bool*  | False                                      | False    |\n",
    "| `keep_inter_dtm` | If True, keep the intermediate DTM at each level of the pyramid                     | *bool*  | False                                      | False    |\n",
    "#### Bulldozer core settings\n",
    "⚠️ Modify those data at your own risk (it is suggested to keep the default values) \n",
    "| Name                  | Type    | Default value  | Required |\n",
    "|:----------------------|:--------|:---------------|:---------|\n",
    "| `four_connexity`      | *bool*  | True           | False    |\n",
    "| `uniform_filter_size` | *int*   | 1              | False    |\n",
    "| `prevent_unhook_iter` | *int*   | 10             | False    |\n",
    "| `num_outer_iter`      | *int*   | 50             | False    |\n",
    "| `num_inner_iter`      | *int*   | 10             | False    |\n",
    "| `mp_tile_size`        | *int*   | 1500           | False    |\n",
    "| `slope_threshold`     | *float* | 2.0            | False    |\n",
    "\n",
    "\n",
    "\n",
    "For all the missing parameters, the default value will be used. For example, if you don't specify the `nodata` value, **Bulldozer** will extract this value from the input DSM metadata."
   ]
  },
  {
   "cell_type": "markdown",
   "metadata": {},
   "source": [
    "#### Setup"
   ]
  },
  {
   "cell_type": "markdown",
   "metadata": {},
   "source": [
    "Example with specific number of workers (core):"
   ]
  },
  {
   "cell_type": "code",
   "execution_count": null,
   "metadata": {},
   "outputs": [],
   "source": [
    "from bulldozer.pipeline.bullodzer_pipeline import dsm_to_dtm\n",
    "\n",
    "dsm_path = '../tests/data/postprocess/dsm_test.tif'\n",
    "output_dir = '../tests/data/preprocess/'\n",
    "nb_max_workers = 32"
   ]
  },
  {
   "cell_type": "markdown",
   "metadata": {},
   "source": [
    "#### Usage"
   ]
  },
  {
   "cell_type": "code",
   "execution_count": null,
   "metadata": {},
   "outputs": [],
   "source": [
    "dsm_to_dtm(dsm_path=dsm_path, output_dir=output_dir, nb_max_worker=nb_max_worker)"
   ]
  },
  {
   "cell_type": "markdown",
   "metadata": {},
   "source": [
    "✅ **Done!**  "
   ]
  }
 ],
 "metadata": {
  "kernelspec": {
   "display_name": "Python 3 (ipykernel)",
   "language": "python",
   "name": "python3"
  },
  "language_info": {
   "codemirror_mode": {
    "name": "ipython",
    "version": 3
   },
   "file_extension": ".py",
   "mimetype": "text/x-python",
   "name": "python",
   "nbconvert_exporter": "python",
   "pygments_lexer": "ipython3",
   "version": "3.8.10"
  }
 },
 "nbformat": 4,
 "nbformat_minor": 4
}
