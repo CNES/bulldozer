{
 "cells": [
  {
   "cell_type": "markdown",
   "metadata": {},
   "source": [
    "*Copyright (c) 2022 Centre National d'Etudes Spatiales (CNES).  \n",
    " This file is part of Bulldozer.  \n",
    " All rights reserved.*\n",
    " \n",
    "# Bulldozer pipeline\n",
    "\n",
    "This notebook aims to describe how to call the the main **Bulldozer** pipeline:  \n",
    "* [Command Line Interface (CLI)](#Command-Line-Interface-(CLI))\n",
    "* [Python API](#Python-API)"
   ]
  },
  {
   "cell_type": "markdown",
   "metadata": {},
   "source": [
    "## Command Line Interface (CLI)"
   ]
  },
  {
   "cell_type": "markdown",
   "metadata": {},
   "source": [
    "First you have to create a configuration file or edit the `configuration_template.yaml` available in the `conf` directory.  \n",
    "You have to, at least, update the following parameters:\n",
    "```yaml\n",
    "# Input DSM path (expected format: \"<folder_1>/<folder_2>/<file>.<[tif/tiff]>\")\n",
    "dsmPath : \"<input_dsm.tif>\"\n",
    "# Output directory path (if the directory doesn't exist, create it)\n",
    "outputDir : \"<output_dir>\"\n",
    "```\n",
    "But you can also add others options. For example you can specify the number of CPU used or desactivate the DHM option:\n",
    "```yaml\n",
    "# If True, generates the DHM (DSM - DTM) in the output directory \n",
    "generateDhm : False\n",
    "# If null, bulldozer will use the maximum number of available workers on your system (warning: check the README if you're using bulldozer on cluster) \n",
    "nbMaxWorkers : 16\n",
    "```"
   ]
  },
  {
   "cell_type": "markdown",
   "metadata": {},
   "source": [
    "You can now launch **Bulldozer** by using the following command:"
   ]
  },
  {
   "cell_type": "code",
   "execution_count": null,
   "metadata": {},
   "outputs": [],
   "source": [
    "!bulldozer --conf ../../tests/data/pipeline/config.yaml"
   ]
  },
  {
   "cell_type": "markdown",
   "metadata": {},
   "source": [
    "✅ **Done!**  "
   ]
  },
  {
   "cell_type": "markdown",
   "metadata": {},
   "source": [
    "## Python API"
   ]
  },
  {
   "cell_type": "markdown",
   "metadata": {
    "tags": []
   },
   "source": [
    "### Using Configuration File"
   ]
  },
  {
   "cell_type": "markdown",
   "metadata": {},
   "source": [
    "You can also call the main **Bullodzer** pipeline through a Python API.  \n",
    "As describe in the [Command Line Interface (CLI) section](#Command-Line-Interface-(CLI)), you can use a YAML configuration file (template available in the `conf` directory)."
   ]
  },
  {
   "cell_type": "markdown",
   "metadata": {},
   "source": [
    "#### Setup"
   ]
  },
  {
   "cell_type": "code",
   "execution_count": null,
   "metadata": {},
   "outputs": [],
   "source": [
    "from bulldozer.pipeline.bullodzer_pipeline import dsm_to_dtm\n",
    "\n",
    "config_path = \"../../tests/data/pipeline/config.yaml\""
   ]
  },
  {
   "cell_type": "markdown",
   "metadata": {},
   "source": [
    "#### Usage"
   ]
  },
  {
   "cell_type": "code",
   "execution_count": null,
   "metadata": {},
   "outputs": [],
   "source": [
    "dsm_to_dtm(config_path)"
   ]
  },
  {
   "cell_type": "markdown",
   "metadata": {},
   "source": [
    "✅ **Done!**  "
   ]
  },
  {
   "cell_type": "markdown",
   "metadata": {
    "tags": []
   },
   "source": [
    "### Using the function parameters"
   ]
  },
  {
   "cell_type": "markdown",
   "metadata": {},
   "source": [
    "You can also directly provide the parameters without using a configuration file.  \n",
    "Here is the list of all the parameters and their corresponding type:\n",
    "- `dsm_path`: str (required)\n",
    "- `output_dir`: str (required)\n",
    "- `nodata`: float (optionnal)\n",
    "- `nb_max_workers`: int (optionnal)\n",
    "- `slope_threshold`: float (optionnal)\n",
    "- `four_connexit`: bool (optionnal)\n",
    "- `min_valid_heigh`: float (optionnal)\n",
    "- `max_object_width`: float (optionnal)\n",
    "- `uniform_filter_size`: int (optionnal)\n",
    "- `prevent_unhook_iter`: int (optionnal)\n",
    "- `num_outer_iter`: int (optionnal)\n",
    "- `num_inner_iter`: int (optionnal)\n",
    "- `mp_tile_size`: int (optionnal)\n",
    "- `output_resolution`: float (optionnal)\n",
    "- `generate_dhm`: bool (optionnal)\n",
    "- `check_intersection`: bool (optionnal)\n",
    "- `developper_mode`: bool (optionnal)\n",
    "\n",
    "For all the missing parameters, the default value will be used. For example, if you don't specify the `nodata` value, **Bulldozer** will extract this value from the input DSM metadata."
   ]
  },
  {
   "cell_type": "markdown",
   "metadata": {},
   "source": [
    "#### Setup"
   ]
  },
  {
   "cell_type": "markdown",
   "metadata": {},
   "source": [
    "Example with specific number of workers (core):"
   ]
  },
  {
   "cell_type": "code",
   "execution_count": null,
   "metadata": {},
   "outputs": [],
   "source": [
    "from bulldozer.pipeline.bullodzer_pipeline import dsm_to_dtm\n",
    "\n",
    "dsm_path = '../tests/data/postprocess/dsm_test.tif'\n",
    "output_dir = '../tests/data/preprocess/'\n",
    "nb_max_workers = 32"
   ]
  },
  {
   "cell_type": "markdown",
   "metadata": {},
   "source": [
    "#### Usage"
   ]
  },
  {
   "cell_type": "code",
   "execution_count": null,
   "metadata": {},
   "outputs": [],
   "source": [
    "dsm_to_dtm(dsm_path=dsm_path, output_dir=output_dir, nb_max_worker=nb_max_worker)"
   ]
  },
  {
   "cell_type": "markdown",
   "metadata": {},
   "source": [
    "✅ **Done!**  "
   ]
  }
 ],
 "metadata": {
  "kernelspec": {
   "display_name": "Python 3 (ipykernel)",
   "language": "python",
   "name": "python3"
  },
  "language_info": {
   "codemirror_mode": {
    "name": "ipython",
    "version": 3
   },
   "file_extension": ".py",
   "mimetype": "text/x-python",
   "name": "python",
   "nbconvert_exporter": "python",
   "pygments_lexer": "ipython3",
   "version": "3.8.10"
  }
 },
 "nbformat": 4,
 "nbformat_minor": 4
}
