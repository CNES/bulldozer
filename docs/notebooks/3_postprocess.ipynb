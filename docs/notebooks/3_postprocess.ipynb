{
 "cells": [
  {
   "cell_type": "markdown",
   "id": "bd7b1227",
   "metadata": {},
   "source": [
    "*Copyright (c) 2022 Centre National d'Etudes Spatiales (CNES).  \n",
    " This file is part of Bulldozer.  \n",
    " All rights reserved.*\n",
    " \n",
    "# Bulldozer post-processing\n",
    "\n",
    "This notebook aims to present the tools available in the post-processing module of **Bulldozer**:\n",
    "* [Pits detection](#Pits-detection)\n",
    "* [Pits filling](#Pits-filling)\n",
    "* [DHM generation](#DHM-generation)\n",
    "* [Full postprocess pipeline](#Full-postprocess-pipeline)"
   ]
  },
  {
   "cell_type": "markdown",
   "id": "39f1ec16",
   "metadata": {
    "tags": []
   },
   "source": [
    "## Pits detection"
   ]
  },
  {
   "cell_type": "markdown",
   "id": "9a761202-d304-4b99-9d90-83f6db51719a",
   "metadata": {
    "tags": []
   },
   "source": [
    "This function allows you to create a boolean mask that flags the sharp pits in the given raster (in **Bullodzer** a *Digital Terrain Model*).   "
   ]
  },
  {
   "cell_type": "markdown",
   "id": "9161150d-49ed-4e6c-800a-4abe8e4a0bf3",
   "metadata": {},
   "source": [
    "### Setup"
   ]
  },
  {
   "cell_type": "code",
   "execution_count": null,
   "id": "cf37f8e3",
   "metadata": {},
   "outputs": [],
   "source": [
    "from bulldozer.postprocessing.dtm_postprocess import build_pits_mask\n",
    "\n",
    "# Required parameter\n",
    "dtm_path = '../../tests/data/postprocess/raw_dtm.tif'\n",
    "\n",
    "# Optional\n",
    "nb_workers = 16"
   ]
  },
  {
   "cell_type": "markdown",
   "id": "97f769d5-0e2f-4ed7-b01a-9d76e63364d6",
   "metadata": {
    "tags": []
   },
   "source": [
    "### Usage"
   ]
  },
  {
   "cell_type": "markdown",
   "id": "67a8f2c1",
   "metadata": {
    "tags": []
   },
   "source": [
    "Basic call (sequential=only 1 CPU used):"
   ]
  },
  {
   "cell_type": "code",
   "execution_count": null,
   "id": "ef39fadf",
   "metadata": {},
   "outputs": [],
   "source": [
    "pits_mask = build_pits_mask(dtm_path=dtm_path)"
   ]
  },
  {
   "cell_type": "markdown",
   "id": "22cb8bc5-6a58-4f89-964b-7cdf644f4f87",
   "metadata": {},
   "source": [
    "*(Optional)* Call with optional parameters:"
   ]
  },
  {
   "cell_type": "code",
   "execution_count": null,
   "id": "fc287cd6-1fbf-41a4-b2d9-7792feb51a8c",
   "metadata": {},
   "outputs": [],
   "source": [
    "pits_mask = build_pits_mask(dtm_path=dtm_path, nb_max_workers=nb_workers)"
   ]
  },
  {
   "cell_type": "markdown",
   "id": "fa59e137",
   "metadata": {},
   "source": [
    "✅ **Done!**  "
   ]
  },
  {
   "cell_type": "markdown",
   "id": "7d6e8c3d-c191-406c-b092-9e37c2bc9cce",
   "metadata": {
    "tags": []
   },
   "source": [
    "## Pits filling"
   ]
  },
  {
   "cell_type": "markdown",
   "id": "d6c04d4d-5664-454a-9fd1-b86fa367a368",
   "metadata": {},
   "source": [
    "This function takes as input a raster and a mask of areas to fill.  \n",
    "It will fill the tagged areas and write the result in the providing output file (by default, it overrides the input raster)."
   ]
  },
  {
   "cell_type": "markdown",
   "id": "fd0a82d8-3c83-438f-b97d-9732fa76b4cc",
   "metadata": {},
   "source": [
    "### Setup"
   ]
  },
  {
   "cell_type": "code",
   "execution_count": null,
   "id": "f13f9724-b63e-4ae2-bb9a-dbf7f313ad4b",
   "metadata": {},
   "outputs": [],
   "source": [
    "from bulldozer.postprocessing.dtm_postprocess import fill_pits\n",
    "\n",
    "# Required parameters\n",
    "dtm_path = '../../tests/data/postprocess/raw_dtm.tif'\n",
    "pits_mask = '../../tests/data/postprocess/pits_mask.tif'\n",
    "\n",
    "# Optional\n",
    "filled_dtm_path = '../../tests/data/postprocess/filled_dtm.tif'\n",
    "nb_workers = 16\n",
    "nodata = -32768.0"
   ]
  },
  {
   "cell_type": "markdown",
   "id": "53b0e919-a86d-4158-8dbb-422e9ff734b6",
   "metadata": {},
   "source": [
    "### Usage"
   ]
  },
  {
   "cell_type": "markdown",
   "id": "8155ed23-726d-448b-95a4-e4d1711d22ef",
   "metadata": {},
   "source": [
    "Basic call (the result will be writes in the `dtm_path` raster): "
   ]
  },
  {
   "cell_type": "code",
   "execution_count": null,
   "id": "94a58193-2626-433a-8529-a71481d4f454",
   "metadata": {},
   "outputs": [],
   "source": [
    "fill_pits(raw_dtm_path=dtm_path, pits_mask=pits_mask)"
   ]
  },
  {
   "cell_type": "markdown",
   "id": "ab47b94d-cc63-45b7-834a-7cfe1896e4fb",
   "metadata": {},
   "source": [
    "*(Optional)* Call with optional parameters:"
   ]
  },
  {
   "cell_type": "code",
   "execution_count": null,
   "id": "d501f526-8073-40c8-9084-a417bca6eba4",
   "metadata": {},
   "outputs": [],
   "source": [
    "fill_pits(raw_dtm_path=dtm_path, pits_mask=pits_mask, out_dtm_path=filled_dtm_path, nb_max_workers=nb_workers, nodata=nodata)"
   ]
  },
  {
   "cell_type": "markdown",
   "id": "27740c27-d793-4a8f-a69c-2d29669955b2",
   "metadata": {},
   "source": [
    "✅ **Done!**  "
   ]
  },
  {
   "cell_type": "markdown",
   "id": "e494fa32",
   "metadata": {
    "tags": []
   },
   "source": [
    "## DHM generation"
   ]
  },
  {
   "cell_type": "markdown",
   "id": "33e99d2a-7312-4040-95f0-0449e0931a81",
   "metadata": {},
   "source": [
    "This function allows you to create a *Digital Height Model* (DHM) from a *Digital Surface Model* (DSM) and a *Digital Terrain Model* DTM (DHM = DSM - DTM).  \n",
    "It will generate it in the providing `output_dir`."
   ]
  },
  {
   "cell_type": "markdown",
   "id": "52ba5753-4c08-4c5f-bd25-89c54ae1628b",
   "metadata": {},
   "source": [
    "### Setup"
   ]
  },
  {
   "cell_type": "code",
   "execution_count": null,
   "id": "4e28a4fe",
   "metadata": {},
   "outputs": [],
   "source": [
    "from bulldozer.postprocessing.dtm_postprocess import build_dhm\n",
    "\n",
    "# Required parameters\n",
    "dsm_path = '../tests/data/postprocess/dsm.tif'\n",
    "dtm_path = '../tests/data/postprocess/filled_dtm.tif'\n",
    "output_dir = '../tests/data/postprocess/'\n",
    "\n",
    "# Optional\n",
    "nb_workers = 16\n",
    "nodata = -32768.0"
   ]
  },
  {
   "cell_type": "markdown",
   "id": "ea277a7a-974c-4aab-b485-4441d5869bf3",
   "metadata": {},
   "source": [
    "### Usage"
   ]
  },
  {
   "cell_type": "markdown",
   "id": "b294d1d3",
   "metadata": {},
   "source": [
    "Basic call (sequential=only 1 CPU used):"
   ]
  },
  {
   "cell_type": "code",
   "execution_count": null,
   "id": "d0e3d053",
   "metadata": {},
   "outputs": [],
   "source": [
    "build_dhm(dsm_path=dsm_path, dtm_path=dtm_path, output_dir=output_dir)"
   ]
  },
  {
   "cell_type": "markdown",
   "id": "22b9d36e-7682-4de1-ad90-5e6790baf8a4",
   "metadata": {},
   "source": [
    "*(Optional)* Call with optional parameters:"
   ]
  },
  {
   "cell_type": "code",
   "execution_count": null,
   "id": "ec70f33a-3503-41e6-bdac-6136277efab1",
   "metadata": {},
   "outputs": [],
   "source": [
    "build_dhm(dsm_path=dsm_path, dtm_path=dtm_path, output_dir=output_dir, nb_max_workers=nb_workers, nodata=nodata)"
   ]
  },
  {
   "cell_type": "markdown",
   "id": "03dd6275",
   "metadata": {},
   "source": [
    "✅ **Done!**  "
   ]
  },
  {
   "cell_type": "markdown",
   "id": "3ada6f0f-a47e-4a86-9c51-6862b18b9f9a",
   "metadata": {},
   "source": [
    "## Full postprocess pipeline"
   ]
  },
  {
   "cell_type": "markdown",
   "id": "76690846",
   "metadata": {},
   "source": [
    "The full post-process pipeline is designed to be used after the **Bulldozer** DTM extraction.  \n",
    "⚠️ It should not be called in standalone because it requires files generated by **Bulldozer** pre-process and the DTM extraction step (`quality_mask.tif`).  \n",
    "This part of the tutorial is adapted to the situation where the post-process step had an issue (example: walltime limit exceed) but the previous steps went well.  \n",
    "It could also be useful if you want to run the **Bulldozer** pipeline step by step (for example in the case you want to make separated jobs and then submit them to a cluster).  "
   ]
  },
  {
   "cell_type": "markdown",
   "id": "444af1bb-7ecd-46b0-acc3-4df08e489b06",
   "metadata": {},
   "source": [
    "### Setup"
   ]
  },
  {
   "cell_type": "code",
   "execution_count": null,
   "id": "1ef2d106",
   "metadata": {},
   "outputs": [],
   "source": [
    "from bulldozer.postprocessing.dtm_postprocess import postprocess_pipeline\n",
    "\n",
    "# Required parameters\n",
    "raw_dtm_path = '../tests/data/postprocess/processed_dtm_test.tif'\n",
    "output_dir = '../tests/data/postprocess/'\n",
    "\n",
    "# Optional\n",
    "nb_workers = 16\n",
    "quality_mask_path = '../tests/data/postprocess/quality_mask.tif'\n",
    "generate_dhm = True\n",
    "dsm_path = '../tests/data/postprocess/dsm.tif'\n",
    "check_intersection = True\n",
    "nodata = -32768.0"
   ]
  },
  {
   "cell_type": "markdown",
   "id": "b20c8804-bdad-46fb-8142-5ca5ecd6c997",
   "metadata": {},
   "source": [
    "### Usage"
   ]
  },
  {
   "cell_type": "markdown",
   "id": "6799e5c0",
   "metadata": {},
   "source": [
    "Basic pipeline call:"
   ]
  },
  {
   "cell_type": "code",
   "execution_count": null,
   "id": "187f61e0",
   "metadata": {},
   "outputs": [],
   "source": [
    "postprocess_pipeline(raw_dtm_path=raw_dtm_path, output_dir=output_dir)"
   ]
  },
  {
   "cell_type": "markdown",
   "id": "418d357c-1d2c-43bb-a14f-db22bcdda6f5",
   "metadata": {},
   "source": [
    "*(Optional)* Postprocess pipeline call with all the options:"
   ]
  },
  {
   "cell_type": "code",
   "execution_count": null,
   "id": "cb6ef458-cd38-49fa-9d2a-52f3526596fd",
   "metadata": {},
   "outputs": [],
   "source": [
    "postprocess_pipeline(raw_dtm_path=raw_dtm_path, output_dir=output_dir, nb_max_workers=nb_workers, quality_mask_path=quality_mask_path, generate_dhm=generate_dhm, dsm_path=dsm_path, check_intersection=check_intersection, nodata=nodata)"
   ]
  },
  {
   "cell_type": "markdown",
   "id": "b1a4d10e",
   "metadata": {},
   "source": [
    "✅ **Done!**  "
   ]
  }
 ],
 "metadata": {
  "kernelspec": {
   "display_name": "Python 3 (ipykernel)",
   "language": "python",
   "name": "python3"
  },
  "language_info": {
   "codemirror_mode": {
    "name": "ipython",
    "version": 3
   },
   "file_extension": ".py",
   "mimetype": "text/x-python",
   "name": "python",
   "nbconvert_exporter": "python",
   "pygments_lexer": "ipython3",
   "version": "3.8.10"
  }
 },
 "nbformat": 4,
 "nbformat_minor": 5
}
